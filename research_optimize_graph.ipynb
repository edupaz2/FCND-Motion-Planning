{
 "cells": [
  {
   "cell_type": "markdown",
   "metadata": {},
   "source": [
    "# Optimizations for NxGraph"
   ]
  },
  {
   "cell_type": "code",
   "execution_count": null,
   "metadata": {},
   "outputs": [],
   "source": [
    "import utils\n",
    "Gr, Cg = load_graph_from_pickle('graph.voronoi.raw.p')\n",
    "print_info(Gr, Cg)\n",
    "visualize_graph(Gr, Cg)\n",
    "\n",
    "Gr = remove_unconnected_subgraphs(Gr)\n",
    "print_info(Gr, Cg)\n",
    "\n",
    "Gr = remove_unnecessary_nodes(Gr, Cg, FLYING_ALTITUDE+SAFETY_DISTANCE)\n",
    "print_info(Gr, Cg)\n",
    "visualize_graph(Gr, Cg)"
   ]
  },
  {
   "cell_type": "code",
   "execution_count": null,
   "metadata": {},
   "outputs": [],
   "source": [
    "save_graph_to_pickle(Gr, Cg, 'graph.voronoi.opt.p')"
   ]
  }
 ],
 "metadata": {
  "kernelspec": {
   "display_name": "Python 3",
   "language": "python",
   "name": "python3"
  },
  "language_info": {
   "codemirror_mode": {
    "name": "ipython",
    "version": 3
   },
   "file_extension": ".py",
   "mimetype": "text/x-python",
   "name": "python",
   "nbconvert_exporter": "python",
   "pygments_lexer": "ipython3",
   "version": "3.6.3"
  }
 },
 "nbformat": 4,
 "nbformat_minor": 2
}
