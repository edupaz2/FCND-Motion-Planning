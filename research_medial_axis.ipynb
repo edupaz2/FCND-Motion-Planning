{
 "cells": [
  {
   "cell_type": "markdown",
   "metadata": {},
   "source": [
    "# Create flying node graph\n",
    "This Notebook will create the graph we will use for flying our drone. We do it once so we don't have to do it everytime we load the simulator."
   ]
  },
  {
   "cell_type": "markdown",
   "metadata": {},
   "source": [
    "## Imports"
   ]
  },
  {
   "cell_type": "code",
   "execution_count": null,
   "metadata": {},
   "outputs": [],
   "source": [
    "import numpy as np\n",
    "from skimage.morphology import medial_axis\n",
    "from skimage.util import invert\n",
    "from planning_utils import create_grid\n",
    "import time\n",
    "\n",
    "%matplotlib inline"
   ]
  },
  {
   "cell_type": "markdown",
   "metadata": {},
   "source": [
    "## Load Data"
   ]
  },
  {
   "cell_type": "code",
   "execution_count": null,
   "metadata": {
    "scrolled": true
   },
   "outputs": [],
   "source": [
    "# This is the same obstacle data from the previous lesson.\n",
    "filename = 'colliders.csv'\n",
    "data = np.loadtxt(filename, delimiter=',', dtype='Float64', skiprows=2)\n",
    "print(data)"
   ]
  },
  {
   "cell_type": "markdown",
   "metadata": {},
   "source": [
    "## Visualize map grid"
   ]
  },
  {
   "cell_type": "code",
   "execution_count": null,
   "metadata": {},
   "outputs": [],
   "source": [
    "print('start')\n",
    "drone_altitude = 5\n",
    "safety_distance = 3\n",
    "grid, _, north_offset, east_offset = create_grid(data, drone_altitude, safety_distance)\n",
    "print('done')"
   ]
  },
  {
   "cell_type": "code",
   "execution_count": null,
   "metadata": {},
   "outputs": [],
   "source": [
    "import matplotlib.pyplot as plt\n",
    "print('start')\n",
    "# Plot it up!\n",
    "fig = plt.figure(figsize=(10,10))\n",
    "plt.imshow(grid, origin='lower', cmap='Greys')\n",
    "\n",
    "plt.xlabel('EAST')\n",
    "plt.ylabel('NORTH')\n",
    "plt.show()\n",
    "print('done')"
   ]
  },
  {
   "cell_type": "markdown",
   "metadata": {},
   "source": [
    "## Medial Axis graph method"
   ]
  },
  {
   "cell_type": "code",
   "execution_count": null,
   "metadata": {},
   "outputs": [],
   "source": [
    "print('Creating Medial Axis')\n",
    "# Create a voronoi graph based on location of obstacle centres (2D no height)\n",
    "t0 = time.time()\n",
    "skeleton = medial_axis(invert(grid))\n",
    "print('Medial Axis with {0} nodes'.format(skeleton.shape))\n",
    "print('Medial Axis took {0} seconds to build'.format(time.time()-t0))"
   ]
  },
  {
   "cell_type": "markdown",
   "metadata": {},
   "source": [
    "## Save to pickle"
   ]
  },
  {
   "cell_type": "code",
   "execution_count": null,
   "metadata": {},
   "outputs": [],
   "source": [
    "import pickle\n",
    "\n",
    "# Dump the graph with Pickle\n",
    "pkl_filename = 'graph.medialaxis.p'\n",
    "\n",
    "try:\n",
    "    with open(pkl_filename, 'wb+') as pfile:\n",
    "        print('Saving to pickle file ', pkl_filename)\n",
    "        pickle.dump(\n",
    "        {\n",
    "            'skeleton': skeleton,\n",
    "        },\n",
    "        pfile, pickle.HIGHEST_PROTOCOL)\n",
    "except Exception as e:\n",
    "    print('Unable to save data to ', pkl_filename, ':', e)\n",
    "\n",
    "print('done')"
   ]
  },
  {
   "cell_type": "markdown",
   "metadata": {},
   "source": [
    "## Load from pickle"
   ]
  },
  {
   "cell_type": "code",
   "execution_count": null,
   "metadata": {},
   "outputs": [],
   "source": [
    "import pickle\n",
    "\n",
    "pkl_filename = 'graph.medialaxis.p'\n",
    "with open(pkl_filename, \"rb\") as pfile:\n",
    "    print('Reading pickle')\n",
    "    dist_pickle = pickle.load(pfile)\n",
    "\n",
    "    skeleton = dist_pickle['skeleton']\n",
    "\n",
    "print('done')"
   ]
  },
  {
   "cell_type": "markdown",
   "metadata": {},
   "source": [
    "## Visualize graph"
   ]
  },
  {
   "cell_type": "code",
   "execution_count": null,
   "metadata": {
    "scrolled": false
   },
   "outputs": [],
   "source": [
    "import matplotlib.pyplot as plt\n",
    "print('start')\n",
    "fig = plt.figure(figsize=(10,10))\n",
    "plt.imshow(grid, origin='lower')\n",
    "plt.imshow(skeleton, origin='lower', cmap='Greys', alpha=0.7)\n",
    "\n",
    "plt.xlabel('EAST')\n",
    "plt.ylabel('NORTH')\n",
    "plt.show()\n",
    "print('done')"
   ]
  },
  {
   "cell_type": "markdown",
   "metadata": {},
   "source": [
    "## A*"
   ]
  },
  {
   "cell_type": "code",
   "execution_count": null,
   "metadata": {},
   "outputs": [],
   "source": [
    "def find_random_node(skel, node):\n",
    "    skel_cells = np.transpose(skel.nonzero())\n",
    "    node_min_dist = np.linalg.norm(np.array(node) - np.array(skel_cells), axis=1).argmin()\n",
    "    near_node = skel_cells[node_min_dist]\n",
    "\n",
    "    return near_node"
   ]
  },
  {
   "cell_type": "code",
   "execution_count": null,
   "metadata": {},
   "outputs": [],
   "source": [
    "start_ne = np.random.choice(len(skeleton),2)\n",
    "goal_ne = np.random.choice(len(skeleton),2)\n",
    "\n",
    "skel_start = find_random_node(skeleton, start_ne)\n",
    "skel_goal = find_random_node(skeleton, goal_ne)\n",
    "\n",
    "print('Start location: {0}, Start Node: {1}'.format(start_ne, skel_start))\n",
    "print('Goal location: {0}, Goal Node: {1}'.format(goal_ne, skel_goal))"
   ]
  },
  {
   "cell_type": "code",
   "execution_count": null,
   "metadata": {},
   "outputs": [],
   "source": [
    "from planning_utils import a_star, heuristic\n",
    "\n",
    "# Run A* on the skeleton\n",
    "path, cost = a_star(invert(skeleton).astype(np.int), heuristic, tuple(skel_start), tuple(skel_goal))\n",
    "print(\"Path length = {0}, path cost = {1}\".format(len(path), cost))\n",
    "#print(path)"
   ]
  },
  {
   "cell_type": "code",
   "execution_count": null,
   "metadata": {},
   "outputs": [],
   "source": [
    "fig = plt.figure(figsize=(10,10))\n",
    "plt.imshow(grid, cmap='Greys', origin='lower')\n",
    "plt.imshow(skeleton, cmap='Greys', origin='lower', alpha=0.7)\n",
    "# For the purposes of the visual the east coordinate lay along\n",
    "# the x-axis and the north coordinates long the y-axis.\n",
    "plt.plot(start_ne[1], start_ne[0], 'x')\n",
    "plt.plot(goal_ne[1], goal_ne[0], 'x')\n",
    "\n",
    "pp = np.array(path)\n",
    "plt.plot(pp[:, 1], pp[:, 0], 'g')\n",
    "\n",
    "plt.xlabel('EAST')\n",
    "plt.ylabel('NORTH')\n",
    "plt.show()"
   ]
  },
  {
   "cell_type": "code",
   "execution_count": null,
   "metadata": {},
   "outputs": [],
   "source": []
  }
 ],
 "metadata": {
  "kernelspec": {
   "display_name": "Python 3",
   "language": "python",
   "name": "python3"
  },
  "language_info": {
   "codemirror_mode": {
    "name": "ipython",
    "version": 3
   },
   "file_extension": ".py",
   "mimetype": "text/x-python",
   "name": "python",
   "nbconvert_exporter": "python",
   "pygments_lexer": "ipython3",
   "version": "3.6.3"
  }
 },
 "nbformat": 4,
 "nbformat_minor": 2
}
